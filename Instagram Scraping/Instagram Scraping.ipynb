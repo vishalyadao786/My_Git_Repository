{
 "cells": [
  {
   "cell_type": "code",
   "execution_count": null,
   "metadata": {
    "collapsed": true
   },
   "outputs": [],
   "source": [
    "from xopen import xopen\n",
    "import glob\n",
    "import json\n",
    "import pandas as pd\n",
    "import numpy as np\n",
    "import datetime\n",
    "\n",
    "files = glob.glob(\"birkenstock/2*xz\")\n",
    "content = \"\"\n",
    "counter = 1\n",
    "\n",
    "\n",
    "for file in files:\n",
    "    with xopen(file) as f:\n",
    "        if counter == 1:\n",
    "            content = content + \"[\" + str(f.read()) + \", \\n\"\n",
    "            counter += 1\n",
    "        elif counter == len(files):\n",
    "            content = content + str(f.read()) + \"]\"\n",
    "            counter += 1\n",
    "        else:\n",
    "            content = content + str(f.read()) + \", \\n\"\n",
    "            counter += 1\n",
    "\n",
    "data = json.loads(content)\n",
    "brand = file[:file.find('\\\\')]"
   ]
  },
  {
   "cell_type": "code",
   "execution_count": null,
   "metadata": {
    "collapsed": true
   },
   "outputs": [],
   "source": [
    "list_item = []\n",
    "list_header = ['description', 'date_posted', 'id', 'likes', 'comments', 'is_video']\n",
    "\n",
    "for data in data:\n",
    "    list_item += [([i.lower() for i in (data['node']['edge_media_to_caption']['edges'][0]['node']['text']).split() if i[0] == '#'],\n",
    "                datetime.datetime.fromtimestamp(data['node']['taken_at_timestamp']).strftime('%Y-%m-%d %H:%M:%S'),\n",
    "                data['node']['id'],\n",
    "                data['node']['edge_media_preview_like']['count'],\n",
    "                data['node']['edge_media_to_comment']['count'],\n",
    "                data['node']['is_video'])]"
   ]
  },
  {
   "cell_type": "code",
   "execution_count": null,
   "metadata": {
    "collapsed": true
   },
   "outputs": [],
   "source": [
    "df_page = pd.DataFrame((list_item), columns = list_header)\n",
    "\n",
    "df_page['date_posted'] = df_page['date_posted'].astype('datetime64[ns]')\n",
    "df_page['id'] = df_page['id'].astype('int64')\n",
    "\n",
    "df_page['day'] = df_page['date_posted'].dt.day_name()"
   ]
  },
  {
   "cell_type": "code",
   "execution_count": null,
   "metadata": {
    "collapsed": true
   },
   "outputs": [],
   "source": [
    "hashtags = df_page.apply(lambda x: pd.Series(x['description']),axis=1).stack().reset_index(level=1, drop=True)\n",
    "            \n",
    "hashtags.name = 'hashtag'\n",
    "\n",
    "df_page = df_page.drop('description', axis = 1).join(hashtags)"
   ]
  },
  {
   "cell_type": "code",
   "execution_count": null,
   "metadata": {
    "collapsed": true
   },
   "outputs": [],
   "source": [
    "%matplotlib inline"
   ]
  },
  {
   "cell_type": "code",
   "execution_count": null,
   "metadata": {
    "collapsed": true
   },
   "outputs": [],
   "source": [
    "plt.figure(figsize=(15,7))\n",
    "df_distinct = df_page.groupby(['id', 'day']).count()\n",
    "df_distinct.groupby(['day']).count()['hashtag'].plot(kind = 'bar', color=\"#96624E\", edgecolor = '#E13F29')\n",
    "plt.xlabel('Days of the week')\n",
    "plt.ylabel('Total number of Instagram posts')"
   ]
  },
  {
   "cell_type": "code",
   "execution_count": null,
   "metadata": {
    "collapsed": true
   },
   "outputs": [],
   "source": [
    "top10_hashtag = df_page.groupby(['hashtag']).count()['day'].reset_index(name='count').sort_values(['count'], ascending=False).head(n=10)\n",
    "plt.figure(figsize = (15, 7))\n",
    "explode = (0.15, 0, 0, 0, 0, 0, 0, 0, 0, 0)\n",
    "colors = [\"#E13F29\", \"#D69A80\", \"#D63B59\", \"#AE5552\", \"#CB5C3B\", \"#EB8076\", \"#96624E\", \"#CB5C3C\", \"#EA8176\", \"#98724E\"]\n",
    "plt.pie(top10_hashtag['count'], labels = top10_hashtag['hashtag'], startangle=90, colors = colors, shadow = True, explode = explode, autopct='%1.1f%%')\n",
    "plt.axis('equal')\n",
    "plt.tight_layout()\n",
    "plt.title('Most engaged #hashtags - Top 10')\n",
    "plt.show()"
   ]
  },
  {
   "cell_type": "code",
   "execution_count": null,
   "metadata": {
    "collapsed": true
   },
   "outputs": [],
   "source": [
    "top10_hashtag_nb = df_page.groupby(['hashtag']).count()['day'].reset_index(name='count').sort_values(['count'], ascending=False)\n",
    "top10_hashtag_nb = top10_hashtag_nb[~top10_hashtag_nb['hashtag'].str.contains(brand)].head(10)\n",
    "plt.figure(figsize = (15, 7))\n",
    "explode = (0.15, 0, 0, 0, 0, 0, 0, 0, 0, 0)\n",
    "colors = [\"#E13F29\", \"#D69A80\", \"#D63B59\", \"#AE5552\", \"#CB5C3B\", \"#EB8076\", \"#96624E\", \"#CB5C3C\", \"#EA8176\", \"#98724E\"]\n",
    "plt.pie(top10_hashtag_nb['count'], labels = top10_hashtag_nb['hashtag'], startangle=90, colors = colors, shadow = True, explode = explode, autopct='%1.1f%%')\n",
    "plt.axis('equal')\n",
    "plt.tight_layout()\n",
    "plt.title('Most engaged #hashtags (ignoring #'+ brand +' ) - Top 10')\n",
    "plt.show()"
   ]
  },
  {
   "cell_type": "code",
   "execution_count": null,
   "metadata": {
    "collapsed": true
   },
   "outputs": [],
   "source": [
    "df_page.sort_values(['date_posted'], ascending = False)\n",
    "\n",
    "plt.figure(figsize = (15, 11))\n",
    "plt.suptitle('How ' + brand + ' have fared over the years', fontsize = 20)\n",
    "\n",
    "plt.subplot(221)\n",
    "year_grp = df_page.groupby([(df_page.date_posted.dt.year)]).likes.median()\n",
    "plt.plot(year_grp, 'go--')\n",
    "plt.grid()\n",
    "plt.xticks(df_page.date_posted.dt.year.unique())\n",
    "plt.title('Average likes per post')\n",
    "\n",
    "plt.subplot(222)\n",
    "year_grp = df_page.groupby([(df_page.date_posted.dt.year)]).likes.sum()\n",
    "plt.plot(year_grp, 'go--')\n",
    "plt.grid()\n",
    "plt.xticks(df_page.date_posted.dt.year.unique())\n",
    "plt.title('Sum of likes of all posts')\n",
    "\n",
    "plt.subplot(223)\n",
    "year_grp = df_page.groupby([(df_page.date_posted.dt.year)]).comments.median()\n",
    "plt.plot(year_grp, 'go--')\n",
    "plt.grid()\n",
    "plt.xticks(df_page.date_posted.dt.year.unique())\n",
    "plt.title('Average comments per post')\n",
    "\n",
    "plt.subplot(224)\n",
    "year_grp = df_page.groupby([(df_page.date_posted.dt.year)]).comments.sum()\n",
    "plt.plot(year_grp, 'go--')\n",
    "plt.grid()\n",
    "plt.xticks(df_page.date_posted.dt.year.unique())\n",
    "plt.title('Sum of comments on all posts')"
   ]
  },
  {
   "cell_type": "code",
   "execution_count": null,
   "metadata": {
    "collapsed": true
   },
   "outputs": [],
   "source": [
    "df_engagement = df_page.groupby(['hashtag']).sum().sort_values(['likes'], ascending=False)[['likes', 'comments']].head(30)\n",
    "\n",
    "\n",
    "plt.figure(figsize=(16, 7))\n",
    "plt.suptitle('Engagement Graph for Hashtags - ' + brand, fontsize = 20)\n",
    "\n",
    "plt.subplot(211)\n",
    "plt.bar(df_engagement.index, df_engagement['likes'], color = \"#96624E\")\n",
    "plt.xticks([])\n",
    "plt.title('Likes for hashtags')\n",
    "\n",
    "\n",
    "plt.subplot(212)\n",
    "plt.bar(df_engagement.index, df_engagement['comments'], color = \"#EB8076\")\n",
    "plt.xticks(rotation='vertical')\n",
    "plt.title('Comments for hashtags')\n",
    "plt.show()"
   ]
  },
  {
   "cell_type": "code",
   "execution_count": null,
   "metadata": {
    "collapsed": true
   },
   "outputs": [],
   "source": []
  }
 ],
 "metadata": {
  "kernelspec": {
   "display_name": "Python 3",
   "language": "python",
   "name": "python3"
  },
  "language_info": {
   "codemirror_mode": {
    "name": "ipython",
    "version": 3
   },
   "file_extension": ".py",
   "mimetype": "text/x-python",
   "name": "python",
   "nbconvert_exporter": "python",
   "pygments_lexer": "ipython3",
   "version": "3.6.1"
  }
 },
 "nbformat": 4,
 "nbformat_minor": 2
}
